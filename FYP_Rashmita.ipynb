{
  "nbformat": 4,
  "nbformat_minor": 0,
  "metadata": {
    "colab": {
      "name": "FYP_Rashmita.ipynb",
      "provenance": [],
      "collapsed_sections": [],
      "authorship_tag": "ABX9TyNs4DN308kRQaDuPg2sPQHu",
      "include_colab_link": true
    },
    "kernelspec": {
      "name": "python3",
      "display_name": "Python 3"
    },
    "language_info": {
      "name": "python"
    }
  },
  "cells": [
    {
      "cell_type": "markdown",
      "metadata": {
        "id": "view-in-github",
        "colab_type": "text"
      },
      "source": [
        "<a href=\"https://colab.research.google.com/github/Rashmita-3003/Automatic-Dialogue-Summary-Generation/blob/main/FYP_Rashmita.ipynb\" target=\"_parent\"><img src=\"https://colab.research.google.com/assets/colab-badge.svg\" alt=\"Open In Colab\"/></a>"
      ]
    },
    {
      "cell_type": "code",
      "metadata": {
        "colab": {
          "resources": {
            "http://localhost:8080/nbextensions/google.colab/files.js": {
              "data": "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",
              "ok": true,
              "headers": [
                [
                  "content-type",
                  "application/javascript"
                ]
              ],
              "status": 200,
              "status_text": ""
            }
          },
          "base_uri": "https://localhost:8080/",
          "height": 73
        },
        "id": "ak5DhfTOw7jd",
        "outputId": "5fe3326a-518a-4a2d-c5fd-2da8c500cf44"
      },
      "source": [
        "from google.colab import files\n",
        "uploaded = files.upload()"
      ],
      "execution_count": null,
      "outputs": [
        {
          "output_type": "display_data",
          "data": {
            "text/html": [
              "\n",
              "     <input type=\"file\" id=\"files-f469284f-f035-4ac8-821f-1a55a3c90150\" name=\"files[]\" multiple disabled\n",
              "        style=\"border:none\" />\n",
              "     <output id=\"result-f469284f-f035-4ac8-821f-1a55a3c90150\">\n",
              "      Upload widget is only available when the cell has been executed in the\n",
              "      current browser session. Please rerun this cell to enable.\n",
              "      </output>\n",
              "      <script src=\"/nbextensions/google.colab/files.js\"></script> "
            ],
            "text/plain": [
              "<IPython.core.display.HTML object>"
            ]
          },
          "metadata": {
            "tags": []
          }
        },
        {
          "output_type": "stream",
          "text": [
            "Saving COC2.csv to COC2.csv\n"
          ],
          "name": "stdout"
        }
      ]
    },
    {
      "cell_type": "code",
      "metadata": {
        "id": "OYYKs5BoxHU0"
      },
      "source": [
        "#dialog_filename = \"DataPollution1.csv\" \n",
        "import pandas as pd\n",
        "import io\n",
        "df = pd.read_csv(io.BytesIO(uploaded['COC2.csv']))"
      ],
      "execution_count": null,
      "outputs": []
    },
    {
      "cell_type": "code",
      "metadata": {
        "colab": {
          "base_uri": "https://localhost:8080/",
          "height": 203
        },
        "id": "8Cls1QFCA7up",
        "outputId": "896aed3d-62a2-4e30-de6f-0bea45e8dcc9"
      },
      "source": [
        "df.head(5)"
      ],
      "execution_count": null,
      "outputs": [
        {
          "output_type": "execute_result",
          "data": {
            "text/html": [
              "<div>\n",
              "<style scoped>\n",
              "    .dataframe tbody tr th:only-of-type {\n",
              "        vertical-align: middle;\n",
              "    }\n",
              "\n",
              "    .dataframe tbody tr th {\n",
              "        vertical-align: top;\n",
              "    }\n",
              "\n",
              "    .dataframe thead th {\n",
              "        text-align: right;\n",
              "    }\n",
              "</style>\n",
              "<table border=\"1\" class=\"dataframe\">\n",
              "  <thead>\n",
              "    <tr style=\"text-align: right;\">\n",
              "      <th></th>\n",
              "      <th>Speaker</th>\n",
              "      <th>Speech</th>\n",
              "    </tr>\n",
              "  </thead>\n",
              "  <tbody>\n",
              "    <tr>\n",
              "      <th>0</th>\n",
              "      <td>A</td>\n",
              "      <td>My friend B. What are you doing?</td>\n",
              "    </tr>\n",
              "    <tr>\n",
              "      <th>1</th>\n",
              "      <td>B</td>\n",
              "      <td>Nothing serious dear. I am trying to solve th...</td>\n",
              "    </tr>\n",
              "    <tr>\n",
              "      <th>2</th>\n",
              "      <td>A</td>\n",
              "      <td>Good! Does a puzzle interest you?</td>\n",
              "    </tr>\n",
              "    <tr>\n",
              "      <th>3</th>\n",
              "      <td>B</td>\n",
              "      <td>A lot friend.</td>\n",
              "    </tr>\n",
              "    <tr>\n",
              "      <th>4</th>\n",
              "      <td>A</td>\n",
              "      <td>Very good! I think you would become a very go...</td>\n",
              "    </tr>\n",
              "  </tbody>\n",
              "</table>\n",
              "</div>"
            ],
            "text/plain": [
              "  Speaker                                             Speech\n",
              "0       A                   My friend B. What are you doing?\n",
              "1       B   Nothing serious dear. I am trying to solve th...\n",
              "2       A                  Good! Does a puzzle interest you?\n",
              "3       B                                      A lot friend.\n",
              "4       A   Very good! I think you would become a very go..."
            ]
          },
          "metadata": {
            "tags": []
          },
          "execution_count": 3
        }
      ]
    },
    {
      "cell_type": "code",
      "metadata": {
        "colab": {
          "base_uri": "https://localhost:8080/"
        },
        "id": "btpbOiQMxHWO",
        "outputId": "11727fbe-3c89-4cd0-e2bd-29a67ef37169"
      },
      "source": [
        "for row in df.itertuples():\n",
        "    print(row.Speaker+\" said that \"+row.Speech)"
      ],
      "execution_count": null,
      "outputs": [
        {
          "output_type": "stream",
          "text": [
            "A said that  My friend B. What are you doing?\n",
            "B said that  Nothing serious dear. I am trying to solve this puzzle.\n",
            "A said that  Good! Does a puzzle interest you?\n",
            "B said that  A lot friend.\n",
            "A said that  Very good! I think you would become a very good engineer then.\n",
            "B said that  Excuse me friend! I don’t like machines.\n",
            "A said that  But you are so good at mathematics! I thought you liked engineering.\n",
            "B said that  No dear. I like physics very much. So I want to study physics and become a scientist.\n",
            "A said that  Physics! What good would you do by being a scientist?\n",
            "B said that  Well I would become a scientist and research into the mystery of the origin of the universe. That would be interesting like solving the biggest puzzle. Besides I also like teaching. That would give me the opportunity to work with more brilliant students.\n",
            "A said that   I see the puzzle. So how would you like to proceed with your target?\n",
            "B said that   I have forgotten to tell you one thing. I took part in a competition arranged by American Embassy. I became the first there and they have offered me a scholarship at the University of California to study physics.\n",
            "A said that  Oh! I see. I am really proud of you. You are a genius indeed. But will you be able to stay there alone?\n",
            "B said that  I will really miss you my parents and my younger sister. But I should avail the opportunity of my better future shouldn’t I?\n",
            "A said that  Of course! Well then go ahead to materialize your dream. May the Almighty fulfill your dream!\n",
            "B said that  What’s your future plan?\n",
            "A said that  I want to be a journalist. I would like to study journalism in Dhaka University.\n",
            "B said that  That’s great! May God bless you to achieve your goal.\n",
            "A said that  Nice to talk to you about such an important issue.\n",
            "B said that  Now I have got to leave.\n",
            "A said that  It’s all right.\n",
            "B said that  Then by for now.\n",
            "A said that  Bye.\n"
          ],
          "name": "stdout"
        }
      ]
    },
    {
      "cell_type": "code",
      "metadata": {
        "id": "HG7bjmIbxHZ-"
      },
      "source": [
        "def verb(endM):\n",
        "  if(endM=='!'):\n",
        "    return \" exclaimed that \"\n",
        "  elif(endM=='.'):\n",
        "    return \" said that \"\n",
        "  else:\n",
        "    return \" asked that \""
      ],
      "execution_count": null,
      "outputs": []
    },
    {
      "cell_type": "code",
      "metadata": {
        "id": "WybOhPsPxHbT"
      },
      "source": [
        "def textProcess(str):\n",
        "  listOfEndMarker=[] #end markers are !,.,?\n",
        "  speech=\"\"\n",
        "  t=()\n",
        "  for element in str:\n",
        "    if(element=='!' or element=='.' or element=='?'):\n",
        "      listOfEndMarker.append(element)  #find endmarkers in speech\n",
        "  #print(listOfEndMarker)\n",
        "  newS=str\n",
        "  for i in range(len(listOfEndMarker)):\n",
        "    endM=listOfEndMarker[i]\n",
        "    #print(endM)\n",
        "    if(newS!=\"\"):\n",
        "      #print(0)\n",
        "      t=newS.partition(endM)\n",
        "      #print(t)\n",
        "      #if(endM!='#'):\n",
        "      speech=speech+verb(endM)+t[0]+\" and\"\n",
        "      #else:\n",
        "      #  speech=speech+verb(endM)+t[0]+'.'\n",
        "\n",
        "      newS=t[2]\n",
        "      #print(speech)\n",
        "  size = len(speech)\n",
        "  # Slice string to remove last 3 characters from string\n",
        "  speech = speech[:size - 3]\n",
        "  speech=speech+'.'\n",
        "\n",
        "  return speech     "
      ],
      "execution_count": null,
      "outputs": []
    },
    {
      "cell_type": "code",
      "metadata": {
        "colab": {
          "base_uri": "https://localhost:8080/",
          "height": 120
        },
        "id": "aYZ8PCFj06Nn",
        "outputId": "413fefd3-2a83-4448-a957-c7d5c515112b"
      },
      "source": [
        "s=\" \"\n",
        "for row in df.itertuples():\n",
        "  s=s+row.Speaker+textProcess(row.Speech)+\" \"\n",
        "s"
      ],
      "execution_count": null,
      "outputs": [
        {
          "output_type": "execute_result",
          "data": {
            "application/vnd.google.colaboratory.intrinsic+json": {
              "type": "string"
            },
            "text/plain": [
              "' A said that  My friend B and asked that  What are you doing . B said that  Nothing serious dear and said that  I am trying to solve this puzzle . A exclaimed that  Good and asked that  Does a puzzle interest you . B said that  A lot friend . A exclaimed that  Very good and said that  I think you would become a very good engineer then . B exclaimed that  Excuse me friend and said that  I don’t like machines . A exclaimed that  But you are so good at mathematics and said that  I thought you liked engineering . B said that  No dear and said that  I like physics very much and said that  So I want to study physics and become a scientist . A exclaimed that  Physics and asked that  What good would you do by being a scientist . B said that  Well I would become a scientist and research into the mystery of the origin of the universe and said that  That would be interesting like solving the biggest puzzle and said that  Besides I also like teaching and said that  That would give me the opportunity to work with more brilliant students . A said that   I see the puzzle and asked that  So how would you like to proceed with your target . B said that   I have forgotten to tell you one thing and said that  I took part in a competition arranged by American Embassy and said that  I became the first there and they have offered me a scholarship at the University of California to study physics . A exclaimed that  Oh and said that  I see and said that  I am really proud of you and said that  You are a genius indeed and asked that  But will you be able to stay there alone . B said that  I will really miss you my parents and my younger sister and asked that  But I should avail the opportunity of my better future shouldn’t I . A exclaimed that  Of course and said that  Well then go ahead to materialize your dream and exclaimed that  May the Almighty fulfill your dream . B asked that  What’s your future plan . A said that  I want to be a journalist and said that  I would like to study journalism in Dhaka University . B exclaimed that  That’s great and said that  May God bless you to achieve your goal . A said that  Nice to talk to you about such an important issue . B said that  Now I have got to leave . A said that  It’s all right . B said that  Then by for now . A said that  Bye . '"
            ]
          },
          "metadata": {
            "tags": []
          },
          "execution_count": 8
        }
      ]
    },
    {
      "cell_type": "code",
      "metadata": {
        "id": "Lq60CCw006QO"
      },
      "source": [
        ""
      ],
      "execution_count": null,
      "outputs": []
    },
    {
      "cell_type": "markdown",
      "metadata": {
        "id": "AQYVi1eZ1DQz"
      },
      "source": [
        "**DATA** **CLEANING**"
      ]
    },
    {
      "cell_type": "code",
      "metadata": {
        "colab": {
          "base_uri": "https://localhost:8080/"
        },
        "id": "3gRumZTe06TI",
        "outputId": "87c62bfc-bf8d-41c6-fc8e-6f73d5583fa9"
      },
      "source": [
        "import numpy as np\n",
        "import pandas as pd\n",
        "import sys\n",
        "from collections import namedtuple\n",
        "import csv\n",
        "import glob\n",
        "import os\n",
        "import pickle\n",
        "import nltk\n",
        "nltk.download('punkt')\n",
        "import re\n",
        "import nltk\n",
        "nltk.download('stopwords')\n",
        "from nltk.corpus import stopwords\n",
        "stop_words = stopwords.words('english')\n",
        "nltk.download('stopwords')\n",
        "from nltk.corpus import PlaintextCorpusReader\n",
        "from nltk import PorterStemmer\n",
        "from nltk.tokenize import word_tokenize\n",
        "from nltk.stem import WordNetLemmatizer\n",
        "import re\n",
        "nltk.download('wordnet')"
      ],
      "execution_count": null,
      "outputs": [
        {
          "output_type": "stream",
          "text": [
            "[nltk_data] Downloading package punkt to /root/nltk_data...\n",
            "[nltk_data]   Unzipping tokenizers/punkt.zip.\n",
            "[nltk_data] Downloading package stopwords to /root/nltk_data...\n",
            "[nltk_data]   Unzipping corpora/stopwords.zip.\n",
            "[nltk_data] Downloading package stopwords to /root/nltk_data...\n",
            "[nltk_data]   Package stopwords is already up-to-date!\n",
            "[nltk_data] Downloading package wordnet to /root/nltk_data...\n",
            "[nltk_data]   Unzipping corpora/wordnet.zip.\n"
          ],
          "name": "stdout"
        },
        {
          "output_type": "execute_result",
          "data": {
            "text/plain": [
              "True"
            ]
          },
          "metadata": {
            "tags": []
          },
          "execution_count": 9
        }
      ]
    },
    {
      "cell_type": "code",
      "metadata": {
        "colab": {
          "base_uri": "https://localhost:8080/"
        },
        "id": "W1WBYOlD06VB",
        "outputId": "25de0e97-7c97-4ff3-c449-72fab8ae3354"
      },
      "source": [
        "from nltk.tokenize import sent_tokenize\n",
        "token_text = sent_tokenize(s)\n",
        "print(token_text)"
      ],
      "execution_count": null,
      "outputs": [
        {
          "output_type": "stream",
          "text": [
            "[' A said that  My friend B and asked that  What are you doing .', 'B said that  Nothing serious dear and said that  I am trying to solve this puzzle .', 'A exclaimed that  Good and asked that  Does a puzzle interest you .', 'B said that  A lot friend .', 'A exclaimed that  Very good and said that  I think you would become a very good engineer then .', 'B exclaimed that  Excuse me friend and said that  I don’t like machines .', 'A exclaimed that  But you are so good at mathematics and said that  I thought you liked engineering .', 'B said that  No dear and said that  I like physics very much and said that  So I want to study physics and become a scientist .', 'A exclaimed that  Physics and asked that  What good would you do by being a scientist .', 'B said that  Well I would become a scientist and research into the mystery of the origin of the universe and said that  That would be interesting like solving the biggest puzzle and said that  Besides I also like teaching and said that  That would give me the opportunity to work with more brilliant students .', 'A said that   I see the puzzle and asked that  So how would you like to proceed with your target .', 'B said that   I have forgotten to tell you one thing and said that  I took part in a competition arranged by American Embassy and said that  I became the first there and they have offered me a scholarship at the University of California to study physics .', 'A exclaimed that  Oh and said that  I see and said that  I am really proud of you and said that  You are a genius indeed and asked that  But will you be able to stay there alone .', 'B said that  I will really miss you my parents and my younger sister and asked that  But I should avail the opportunity of my better future shouldn’t I .', 'A exclaimed that  Of course and said that  Well then go ahead to materialize your dream and exclaimed that  May the Almighty fulfill your dream .', 'B asked that  What’s your future plan .', 'A said that  I want to be a journalist and said that  I would like to study journalism in Dhaka University .', 'B exclaimed that  That’s great and said that  May God bless you to achieve your goal .', 'A said that  Nice to talk to you about such an important issue .', 'B said that  Now I have got to leave .', 'A said that  It’s all right .', 'B said that  Then by for now .', 'A said that  Bye .']\n"
          ],
          "name": "stdout"
        }
      ]
    },
    {
      "cell_type": "code",
      "metadata": {
        "colab": {
          "base_uri": "https://localhost:8080/",
          "height": 357
        },
        "id": "e7EVeS4w06Y_",
        "outputId": "79dcfc3d-c809-429f-9ce6-2f1a27e1c5ce"
      },
      "source": [
        "df1= pd.DataFrame(token_text,columns =['text'])\n",
        "#print(len(token_text))\n",
        "df1.head(10)"
      ],
      "execution_count": null,
      "outputs": [
        {
          "output_type": "execute_result",
          "data": {
            "text/html": [
              "<div>\n",
              "<style scoped>\n",
              "    .dataframe tbody tr th:only-of-type {\n",
              "        vertical-align: middle;\n",
              "    }\n",
              "\n",
              "    .dataframe tbody tr th {\n",
              "        vertical-align: top;\n",
              "    }\n",
              "\n",
              "    .dataframe thead th {\n",
              "        text-align: right;\n",
              "    }\n",
              "</style>\n",
              "<table border=\"1\" class=\"dataframe\">\n",
              "  <thead>\n",
              "    <tr style=\"text-align: right;\">\n",
              "      <th></th>\n",
              "      <th>text</th>\n",
              "    </tr>\n",
              "  </thead>\n",
              "  <tbody>\n",
              "    <tr>\n",
              "      <th>0</th>\n",
              "      <td>A said that  My friend B and asked that  What...</td>\n",
              "    </tr>\n",
              "    <tr>\n",
              "      <th>1</th>\n",
              "      <td>B said that  Nothing serious dear and said tha...</td>\n",
              "    </tr>\n",
              "    <tr>\n",
              "      <th>2</th>\n",
              "      <td>A exclaimed that  Good and asked that  Does a ...</td>\n",
              "    </tr>\n",
              "    <tr>\n",
              "      <th>3</th>\n",
              "      <td>B said that  A lot friend .</td>\n",
              "    </tr>\n",
              "    <tr>\n",
              "      <th>4</th>\n",
              "      <td>A exclaimed that  Very good and said that  I t...</td>\n",
              "    </tr>\n",
              "    <tr>\n",
              "      <th>5</th>\n",
              "      <td>B exclaimed that  Excuse me friend and said th...</td>\n",
              "    </tr>\n",
              "    <tr>\n",
              "      <th>6</th>\n",
              "      <td>A exclaimed that  But you are so good at mathe...</td>\n",
              "    </tr>\n",
              "    <tr>\n",
              "      <th>7</th>\n",
              "      <td>B said that  No dear and said that  I like phy...</td>\n",
              "    </tr>\n",
              "    <tr>\n",
              "      <th>8</th>\n",
              "      <td>A exclaimed that  Physics and asked that  What...</td>\n",
              "    </tr>\n",
              "    <tr>\n",
              "      <th>9</th>\n",
              "      <td>B said that  Well I would become a scientist a...</td>\n",
              "    </tr>\n",
              "  </tbody>\n",
              "</table>\n",
              "</div>"
            ],
            "text/plain": [
              "                                                text\n",
              "0   A said that  My friend B and asked that  What...\n",
              "1  B said that  Nothing serious dear and said tha...\n",
              "2  A exclaimed that  Good and asked that  Does a ...\n",
              "3                        B said that  A lot friend .\n",
              "4  A exclaimed that  Very good and said that  I t...\n",
              "5  B exclaimed that  Excuse me friend and said th...\n",
              "6  A exclaimed that  But you are so good at mathe...\n",
              "7  B said that  No dear and said that  I like phy...\n",
              "8  A exclaimed that  Physics and asked that  What...\n",
              "9  B said that  Well I would become a scientist a..."
            ]
          },
          "metadata": {
            "tags": []
          },
          "execution_count": 11
        }
      ]
    },
    {
      "cell_type": "code",
      "metadata": {
        "colab": {
          "base_uri": "https://localhost:8080/"
        },
        "id": "k5ojHuWB06aS",
        "outputId": "14b8edca-737f-4f4d-a54e-27a3805b1053"
      },
      "source": [
        "token_text[0:3]"
      ],
      "execution_count": null,
      "outputs": [
        {
          "output_type": "execute_result",
          "data": {
            "text/plain": [
              "[' A said that  My friend B and asked that  What are you doing .',\n",
              " 'B said that  Nothing serious dear and said that  I am trying to solve this puzzle .',\n",
              " 'A exclaimed that  Good and asked that  Does a puzzle interest you .']"
            ]
          },
          "metadata": {
            "tags": []
          },
          "execution_count": 12
        }
      ]
    },
    {
      "cell_type": "code",
      "metadata": {
        "id": "vPoxdMUg06eK"
      },
      "source": [
        "# remove punctuations, numbers and special characters\n",
        "clean_sentences = pd.Series(token_text).str.replace(\"[^a-zA-Z]\", \" \")\n",
        "\n",
        "# make alphabets lowercase\n",
        "clean_sentences = [s.lower() for s in clean_sentences]"
      ],
      "execution_count": null,
      "outputs": []
    },
    {
      "cell_type": "code",
      "metadata": {
        "id": "7LKr6Amg06fp"
      },
      "source": [
        "# function to remove stopwords\n",
        "def remove_stopwords(sen):\n",
        "    sen_new = \" \".join([i for i in sen if i not in stop_words])\n",
        "    return sen_new"
      ],
      "execution_count": null,
      "outputs": []
    },
    {
      "cell_type": "code",
      "metadata": {
        "id": "kqw5hwlm06jl"
      },
      "source": [
        "# remove stopwords from the sentences\n",
        "clean_sentences = [remove_stopwords(r.split()) for r in clean_sentences]"
      ],
      "execution_count": null,
      "outputs": []
    },
    {
      "cell_type": "code",
      "metadata": {
        "colab": {
          "base_uri": "https://localhost:8080/"
        },
        "id": "znUe2Iia1q9x",
        "outputId": "a6417339-a9ae-4b1a-9d20-def03c22568a"
      },
      "source": [
        "clean_sentences[0:5]"
      ],
      "execution_count": null,
      "outputs": [
        {
          "output_type": "execute_result",
          "data": {
            "text/plain": [
              "['said friend b asked',\n",
              " 'b said nothing serious dear said trying solve puzzle',\n",
              " 'exclaimed good asked puzzle interest',\n",
              " 'b said lot friend',\n",
              " 'exclaimed good said think would become good engineer']"
            ]
          },
          "metadata": {
            "tags": []
          },
          "execution_count": 17
        }
      ]
    },
    {
      "cell_type": "code",
      "metadata": {
        "id": "ubh0senf1rAC"
      },
      "source": [
        ""
      ],
      "execution_count": null,
      "outputs": []
    },
    {
      "cell_type": "markdown",
      "metadata": {
        "id": "_rroB9oJ1yxD"
      },
      "source": [
        "**TEXT TO VECTOR**"
      ]
    },
    {
      "cell_type": "code",
      "metadata": {
        "colab": {
          "base_uri": "https://localhost:8080/"
        },
        "id": "ABkRyg151rDv",
        "outputId": "7281c131-c16c-4de2-9b22-9dbf254efe40"
      },
      "source": [
        "!wget http://nlp.stanford.edu/data/glove.6B.zip"
      ],
      "execution_count": null,
      "outputs": [
        {
          "output_type": "stream",
          "text": [
            "--2021-07-05 16:00:32--  http://nlp.stanford.edu/data/glove.6B.zip\n",
            "Resolving nlp.stanford.edu (nlp.stanford.edu)... 171.64.67.140\n",
            "Connecting to nlp.stanford.edu (nlp.stanford.edu)|171.64.67.140|:80... connected.\n",
            "HTTP request sent, awaiting response... 302 Found\n",
            "Location: https://nlp.stanford.edu/data/glove.6B.zip [following]\n",
            "--2021-07-05 16:00:32--  https://nlp.stanford.edu/data/glove.6B.zip\n",
            "Connecting to nlp.stanford.edu (nlp.stanford.edu)|171.64.67.140|:443... connected.\n",
            "HTTP request sent, awaiting response... 301 Moved Permanently\n",
            "Location: http://downloads.cs.stanford.edu/nlp/data/glove.6B.zip [following]\n",
            "--2021-07-05 16:00:33--  http://downloads.cs.stanford.edu/nlp/data/glove.6B.zip\n",
            "Resolving downloads.cs.stanford.edu (downloads.cs.stanford.edu)... 171.64.64.22\n",
            "Connecting to downloads.cs.stanford.edu (downloads.cs.stanford.edu)|171.64.64.22|:80... connected.\n",
            "HTTP request sent, awaiting response... 200 OK\n",
            "Length: 862182613 (822M) [application/zip]\n",
            "Saving to: ‘glove.6B.zip’\n",
            "\n",
            "glove.6B.zip        100%[===================>] 822.24M  5.20MB/s    in 2m 40s  \n",
            "\n",
            "2021-07-05 16:03:13 (5.14 MB/s) - ‘glove.6B.zip’ saved [862182613/862182613]\n",
            "\n"
          ],
          "name": "stdout"
        }
      ]
    },
    {
      "cell_type": "code",
      "metadata": {
        "colab": {
          "base_uri": "https://localhost:8080/"
        },
        "id": "oTNViBpD1rFg",
        "outputId": "6a8e7341-d1a3-44e4-d9d1-eee6a14058e5"
      },
      "source": [
        "!unzip glove*.zip"
      ],
      "execution_count": null,
      "outputs": [
        {
          "output_type": "stream",
          "text": [
            "Archive:  glove.6B.zip\n",
            "  inflating: glove.6B.50d.txt        \n",
            "  inflating: glove.6B.100d.txt       \n",
            "  inflating: glove.6B.200d.txt       \n",
            "  inflating: glove.6B.300d.txt       \n"
          ],
          "name": "stdout"
        }
      ]
    },
    {
      "cell_type": "code",
      "metadata": {
        "id": "-j078PE81rJw"
      },
      "source": [
        "# Extract word vectors\n",
        "word_embeddings = {}\n",
        "f = open(\"glove.6B.100d.txt\", encoding='utf-8')\n",
        "for line in f:\n",
        "    values = line.split()\n",
        "    word = values[0]\n",
        "    coefs = np.asarray(values[1:], dtype='float32')\n",
        "    word_embeddings[word] = coefs\n",
        "f.close()"
      ],
      "execution_count": null,
      "outputs": []
    },
    {
      "cell_type": "code",
      "metadata": {
        "colab": {
          "base_uri": "https://localhost:8080/"
        },
        "id": "UEiRzIFR1rMo",
        "outputId": "ff9e1461-9f1a-400d-f3ae-2d0685ad070a"
      },
      "source": [
        "len(word_embeddings)"
      ],
      "execution_count": null,
      "outputs": [
        {
          "output_type": "execute_result",
          "data": {
            "text/plain": [
              "400000"
            ]
          },
          "metadata": {
            "tags": []
          },
          "execution_count": 21
        }
      ]
    },
    {
      "cell_type": "code",
      "metadata": {
        "id": "dGCKE1Uh06mn"
      },
      "source": [
        "#compute weights for each word based on the loaded embeddings\n",
        "\n",
        "sentence_vectors = []\n",
        "for i in clean_sentences:\n",
        "  if len(i) != 0:\n",
        "    v = sum([word_embeddings.get(w, np.zeros((100,))) for w in i.split()])/(len(i.split())+0.001)\n",
        "  else:\n",
        "    v = np.zeros((100,))\n",
        "  sentence_vectors.append(v)"
      ],
      "execution_count": null,
      "outputs": []
    },
    {
      "cell_type": "code",
      "metadata": {
        "id": "Ioe3M3sF2X5R"
      },
      "source": [
        ""
      ],
      "execution_count": null,
      "outputs": []
    },
    {
      "cell_type": "markdown",
      "metadata": {
        "id": "WmvhS3kL2eKD"
      },
      "source": [
        "**SIMILARITY MATRIX**"
      ]
    },
    {
      "cell_type": "code",
      "metadata": {
        "id": "bv0P5ayA2X7V"
      },
      "source": [
        "from sklearn.metrics.pairwise import cosine_similarity"
      ],
      "execution_count": null,
      "outputs": []
    },
    {
      "cell_type": "code",
      "metadata": {
        "id": "BHfrhiBc2X_v"
      },
      "source": [
        "# similarity matrix\n",
        "sim_mat = np.zeros([len(token_text), len(token_text)])"
      ],
      "execution_count": null,
      "outputs": []
    },
    {
      "cell_type": "code",
      "metadata": {
        "id": "qkAbAfpc2or1"
      },
      "source": [
        "for i in range(len(token_text)):\n",
        "  for j in range(len(token_text)):\n",
        "    if i != j:\n",
        "      sim_mat[i][j] = cosine_similarity(sentence_vectors[i].reshape(1,100), sentence_vectors[j].reshape(1,100))[0,0]"
      ],
      "execution_count": null,
      "outputs": []
    },
    {
      "cell_type": "code",
      "metadata": {
        "id": "9ALO4IMo2otk"
      },
      "source": [
        "import networkx as nx\n",
        "\n",
        "nx_graph = nx.from_numpy_array(sim_mat)\n",
        "scores = nx.pagerank(nx_graph)"
      ],
      "execution_count": null,
      "outputs": []
    },
    {
      "cell_type": "code",
      "metadata": {
        "id": "lzxannG-2ox6"
      },
      "source": [
        "ranked_sentences = sorted(((scores[i],s) for i,s in enumerate(token_text)), reverse=True)"
      ],
      "execution_count": null,
      "outputs": []
    },
    {
      "cell_type": "code",
      "metadata": {
        "colab": {
          "base_uri": "https://localhost:8080/"
        },
        "id": "VkKGCnL02ozM",
        "outputId": "7a4c2f05-32db-4547-e1b3-6e9761cdbc8a"
      },
      "source": [
        "# Extract top 5 sentences as the summary\n",
        "for i in range(5):\n",
        "  print(ranked_sentences[i][1])"
      ],
      "execution_count": null,
      "outputs": [
        {
          "output_type": "stream",
          "text": [
            "A exclaimed that  Oh and said that  I see and said that  I am really proud of you and said that  You are a genius indeed and asked that  But will you be able to stay there alone .\n",
            "B said that  Well I would become a scientist and research into the mystery of the origin of the universe and said that  That would be interesting like solving the biggest puzzle and said that  Besides I also like teaching and said that  That would give me the opportunity to work with more brilliant students .\n",
            "A exclaimed that  Very good and said that  I think you would become a very good engineer then .\n",
            "A said that   I see the puzzle and asked that  So how would you like to proceed with your target .\n",
            "B said that  No dear and said that  I like physics very much and said that  So I want to study physics and become a scientist .\n"
          ],
          "name": "stdout"
        }
      ]
    },
    {
      "cell_type": "code",
      "metadata": {
        "colab": {
          "base_uri": "https://localhost:8080/"
        },
        "id": "n99RaFAf2o4D",
        "outputId": "9731c4f3-23fb-4534-92a6-7b076fa329e6"
      },
      "source": [
        "ranked_sentences[0:5]"
      ],
      "execution_count": null,
      "outputs": [
        {
          "output_type": "execute_result",
          "data": {
            "text/plain": [
              "[(0.04543346025648025,\n",
              "  'A exclaimed that  Oh and said that  I see and said that  I am really proud of you and said that  You are a genius indeed and asked that  But will you be able to stay there alone .'),\n",
              " (0.045394375893310655,\n",
              "  'B said that  Well I would become a scientist and research into the mystery of the origin of the universe and said that  That would be interesting like solving the biggest puzzle and said that  Besides I also like teaching and said that  That would give me the opportunity to work with more brilliant students .'),\n",
              " (0.04520812591829802,\n",
              "  'A exclaimed that  Very good and said that  I think you would become a very good engineer then .'),\n",
              " (0.04497519304576364,\n",
              "  'A said that   I see the puzzle and asked that  So how would you like to proceed with your target .'),\n",
              " (0.0449619992987025,\n",
              "  'B said that  No dear and said that  I like physics very much and said that  So I want to study physics and become a scientist .')]"
            ]
          },
          "metadata": {
            "tags": []
          },
          "execution_count": 33
        }
      ]
    },
    {
      "cell_type": "code",
      "metadata": {
        "colab": {
          "base_uri": "https://localhost:8080/"
        },
        "id": "-hQ740xM_3ol",
        "outputId": "ab98c7c4-51ae-4399-8077-394518a4a8fe"
      },
      "source": [
        "leng = len(df)\n",
        "print(leng)"
      ],
      "execution_count": null,
      "outputs": [
        {
          "output_type": "stream",
          "text": [
            "23\n"
          ],
          "name": "stdout"
        }
      ]
    },
    {
      "cell_type": "code",
      "metadata": {
        "colab": {
          "base_uri": "https://localhost:8080/"
        },
        "id": "GtztO1nt26X3",
        "outputId": "9c3ed877-0c93-4d07-b220-65a989272806"
      },
      "source": [
        "#changr range acc to no of speech\n",
        "\n",
        "ol = []\n",
        "for i in range(leng):\n",
        "  for ind in df1.index:\n",
        "   if(ranked_sentences[i][1] == df1['text'][ind] ):\n",
        "     ol.append(ind)\n",
        "\n",
        "print(ol)"
      ],
      "execution_count": null,
      "outputs": [
        {
          "output_type": "stream",
          "text": [
            "[12, 9, 4, 10, 7, 3, 1, 13, 11, 5, 19, 18, 0, 16, 8, 20, 2, 6, 17, 15, 14, 21, 22]\n"
          ],
          "name": "stdout"
        }
      ]
    },
    {
      "cell_type": "code",
      "metadata": {
        "colab": {
          "base_uri": "https://localhost:8080/",
          "height": 758
        },
        "id": "38oqzEdI26Zs",
        "outputId": "8283faf3-751e-4ec8-bacd-40a824db1ee6"
      },
      "source": [
        "import pandas as pd\n",
        "df.columns =['sim', 'text']\n",
        "df = pd.DataFrame(ranked_sentences)\n",
        "df"
      ],
      "execution_count": null,
      "outputs": [
        {
          "output_type": "execute_result",
          "data": {
            "text/html": [
              "<div>\n",
              "<style scoped>\n",
              "    .dataframe tbody tr th:only-of-type {\n",
              "        vertical-align: middle;\n",
              "    }\n",
              "\n",
              "    .dataframe tbody tr th {\n",
              "        vertical-align: top;\n",
              "    }\n",
              "\n",
              "    .dataframe thead th {\n",
              "        text-align: right;\n",
              "    }\n",
              "</style>\n",
              "<table border=\"1\" class=\"dataframe\">\n",
              "  <thead>\n",
              "    <tr style=\"text-align: right;\">\n",
              "      <th></th>\n",
              "      <th>0</th>\n",
              "      <th>1</th>\n",
              "    </tr>\n",
              "  </thead>\n",
              "  <tbody>\n",
              "    <tr>\n",
              "      <th>0</th>\n",
              "      <td>0.045433</td>\n",
              "      <td>A exclaimed that  Oh and said that  I see and ...</td>\n",
              "    </tr>\n",
              "    <tr>\n",
              "      <th>1</th>\n",
              "      <td>0.045394</td>\n",
              "      <td>B said that  Well I would become a scientist a...</td>\n",
              "    </tr>\n",
              "    <tr>\n",
              "      <th>2</th>\n",
              "      <td>0.045208</td>\n",
              "      <td>A exclaimed that  Very good and said that  I t...</td>\n",
              "    </tr>\n",
              "    <tr>\n",
              "      <th>3</th>\n",
              "      <td>0.044975</td>\n",
              "      <td>A said that   I see the puzzle and asked that ...</td>\n",
              "    </tr>\n",
              "    <tr>\n",
              "      <th>4</th>\n",
              "      <td>0.044962</td>\n",
              "      <td>B said that  No dear and said that  I like phy...</td>\n",
              "    </tr>\n",
              "    <tr>\n",
              "      <th>5</th>\n",
              "      <td>0.044615</td>\n",
              "      <td>B said that  A lot friend .</td>\n",
              "    </tr>\n",
              "    <tr>\n",
              "      <th>6</th>\n",
              "      <td>0.044528</td>\n",
              "      <td>B said that  Nothing serious dear and said tha...</td>\n",
              "    </tr>\n",
              "    <tr>\n",
              "      <th>7</th>\n",
              "      <td>0.044481</td>\n",
              "      <td>B said that  I will really miss you my parents...</td>\n",
              "    </tr>\n",
              "    <tr>\n",
              "      <th>8</th>\n",
              "      <td>0.044439</td>\n",
              "      <td>B said that   I have forgotten to tell you one...</td>\n",
              "    </tr>\n",
              "    <tr>\n",
              "      <th>9</th>\n",
              "      <td>0.044144</td>\n",
              "      <td>B exclaimed that  Excuse me friend and said th...</td>\n",
              "    </tr>\n",
              "    <tr>\n",
              "      <th>10</th>\n",
              "      <td>0.044025</td>\n",
              "      <td>B said that  Now I have got to leave .</td>\n",
              "    </tr>\n",
              "    <tr>\n",
              "      <th>11</th>\n",
              "      <td>0.043944</td>\n",
              "      <td>A said that  Nice to talk to you about such an...</td>\n",
              "    </tr>\n",
              "    <tr>\n",
              "      <th>12</th>\n",
              "      <td>0.043637</td>\n",
              "      <td>A said that  My friend B and asked that  What...</td>\n",
              "    </tr>\n",
              "    <tr>\n",
              "      <th>13</th>\n",
              "      <td>0.043480</td>\n",
              "      <td>A said that  I want to be a journalist and sai...</td>\n",
              "    </tr>\n",
              "    <tr>\n",
              "      <th>14</th>\n",
              "      <td>0.043185</td>\n",
              "      <td>A exclaimed that  Physics and asked that  What...</td>\n",
              "    </tr>\n",
              "    <tr>\n",
              "      <th>15</th>\n",
              "      <td>0.043174</td>\n",
              "      <td>A said that  It’s all right .</td>\n",
              "    </tr>\n",
              "    <tr>\n",
              "      <th>16</th>\n",
              "      <td>0.042951</td>\n",
              "      <td>A exclaimed that  Good and asked that  Does a ...</td>\n",
              "    </tr>\n",
              "    <tr>\n",
              "      <th>17</th>\n",
              "      <td>0.042665</td>\n",
              "      <td>A exclaimed that  But you are so good at mathe...</td>\n",
              "    </tr>\n",
              "    <tr>\n",
              "      <th>18</th>\n",
              "      <td>0.042585</td>\n",
              "      <td>B exclaimed that  That’s great and said that  ...</td>\n",
              "    </tr>\n",
              "    <tr>\n",
              "      <th>19</th>\n",
              "      <td>0.042364</td>\n",
              "      <td>B asked that  What’s your future plan .</td>\n",
              "    </tr>\n",
              "    <tr>\n",
              "      <th>20</th>\n",
              "      <td>0.042180</td>\n",
              "      <td>A exclaimed that  Of course and said that  Wel...</td>\n",
              "    </tr>\n",
              "    <tr>\n",
              "      <th>21</th>\n",
              "      <td>0.040026</td>\n",
              "      <td>B said that  Then by for now .</td>\n",
              "    </tr>\n",
              "    <tr>\n",
              "      <th>22</th>\n",
              "      <td>0.037604</td>\n",
              "      <td>A said that  Bye .</td>\n",
              "    </tr>\n",
              "  </tbody>\n",
              "</table>\n",
              "</div>"
            ],
            "text/plain": [
              "           0                                                  1\n",
              "0   0.045433  A exclaimed that  Oh and said that  I see and ...\n",
              "1   0.045394  B said that  Well I would become a scientist a...\n",
              "2   0.045208  A exclaimed that  Very good and said that  I t...\n",
              "3   0.044975  A said that   I see the puzzle and asked that ...\n",
              "4   0.044962  B said that  No dear and said that  I like phy...\n",
              "5   0.044615                        B said that  A lot friend .\n",
              "6   0.044528  B said that  Nothing serious dear and said tha...\n",
              "7   0.044481  B said that  I will really miss you my parents...\n",
              "8   0.044439  B said that   I have forgotten to tell you one...\n",
              "9   0.044144  B exclaimed that  Excuse me friend and said th...\n",
              "10  0.044025             B said that  Now I have got to leave .\n",
              "11  0.043944  A said that  Nice to talk to you about such an...\n",
              "12  0.043637   A said that  My friend B and asked that  What...\n",
              "13  0.043480  A said that  I want to be a journalist and sai...\n",
              "14  0.043185  A exclaimed that  Physics and asked that  What...\n",
              "15  0.043174                      A said that  It’s all right .\n",
              "16  0.042951  A exclaimed that  Good and asked that  Does a ...\n",
              "17  0.042665  A exclaimed that  But you are so good at mathe...\n",
              "18  0.042585  B exclaimed that  That’s great and said that  ...\n",
              "19  0.042364            B asked that  What’s your future plan .\n",
              "20  0.042180  A exclaimed that  Of course and said that  Wel...\n",
              "21  0.040026                     B said that  Then by for now .\n",
              "22  0.037604                                 A said that  Bye ."
            ]
          },
          "metadata": {
            "tags": []
          },
          "execution_count": 36
        }
      ]
    },
    {
      "cell_type": "code",
      "metadata": {
        "colab": {
          "base_uri": "https://localhost:8080/",
          "height": 728
        },
        "id": "13U8rpkQ26dx",
        "outputId": "1f676f74-39cb-44a0-d443-688def6938ef"
      },
      "source": [
        "df3 = pd.DataFrame(ranked_sentences,columns =['simi', 'text'])\n",
        "df3['order'] = ol\n",
        "\n",
        "df3"
      ],
      "execution_count": null,
      "outputs": [
        {
          "output_type": "execute_result",
          "data": {
            "text/html": [
              "<div>\n",
              "<style scoped>\n",
              "    .dataframe tbody tr th:only-of-type {\n",
              "        vertical-align: middle;\n",
              "    }\n",
              "\n",
              "    .dataframe tbody tr th {\n",
              "        vertical-align: top;\n",
              "    }\n",
              "\n",
              "    .dataframe thead th {\n",
              "        text-align: right;\n",
              "    }\n",
              "</style>\n",
              "<table border=\"1\" class=\"dataframe\">\n",
              "  <thead>\n",
              "    <tr style=\"text-align: right;\">\n",
              "      <th></th>\n",
              "      <th>simi</th>\n",
              "      <th>text</th>\n",
              "      <th>order</th>\n",
              "    </tr>\n",
              "  </thead>\n",
              "  <tbody>\n",
              "    <tr>\n",
              "      <th>0</th>\n",
              "      <td>0.045433</td>\n",
              "      <td>A exclaimed that  Oh and said that  I see and ...</td>\n",
              "      <td>12</td>\n",
              "    </tr>\n",
              "    <tr>\n",
              "      <th>1</th>\n",
              "      <td>0.045394</td>\n",
              "      <td>B said that  Well I would become a scientist a...</td>\n",
              "      <td>9</td>\n",
              "    </tr>\n",
              "    <tr>\n",
              "      <th>2</th>\n",
              "      <td>0.045208</td>\n",
              "      <td>A exclaimed that  Very good and said that  I t...</td>\n",
              "      <td>4</td>\n",
              "    </tr>\n",
              "    <tr>\n",
              "      <th>3</th>\n",
              "      <td>0.044975</td>\n",
              "      <td>A said that   I see the puzzle and asked that ...</td>\n",
              "      <td>10</td>\n",
              "    </tr>\n",
              "    <tr>\n",
              "      <th>4</th>\n",
              "      <td>0.044962</td>\n",
              "      <td>B said that  No dear and said that  I like phy...</td>\n",
              "      <td>7</td>\n",
              "    </tr>\n",
              "    <tr>\n",
              "      <th>5</th>\n",
              "      <td>0.044615</td>\n",
              "      <td>B said that  A lot friend .</td>\n",
              "      <td>3</td>\n",
              "    </tr>\n",
              "    <tr>\n",
              "      <th>6</th>\n",
              "      <td>0.044528</td>\n",
              "      <td>B said that  Nothing serious dear and said tha...</td>\n",
              "      <td>1</td>\n",
              "    </tr>\n",
              "    <tr>\n",
              "      <th>7</th>\n",
              "      <td>0.044481</td>\n",
              "      <td>B said that  I will really miss you my parents...</td>\n",
              "      <td>13</td>\n",
              "    </tr>\n",
              "    <tr>\n",
              "      <th>8</th>\n",
              "      <td>0.044439</td>\n",
              "      <td>B said that   I have forgotten to tell you one...</td>\n",
              "      <td>11</td>\n",
              "    </tr>\n",
              "    <tr>\n",
              "      <th>9</th>\n",
              "      <td>0.044144</td>\n",
              "      <td>B exclaimed that  Excuse me friend and said th...</td>\n",
              "      <td>5</td>\n",
              "    </tr>\n",
              "    <tr>\n",
              "      <th>10</th>\n",
              "      <td>0.044025</td>\n",
              "      <td>B said that  Now I have got to leave .</td>\n",
              "      <td>19</td>\n",
              "    </tr>\n",
              "    <tr>\n",
              "      <th>11</th>\n",
              "      <td>0.043944</td>\n",
              "      <td>A said that  Nice to talk to you about such an...</td>\n",
              "      <td>18</td>\n",
              "    </tr>\n",
              "    <tr>\n",
              "      <th>12</th>\n",
              "      <td>0.043637</td>\n",
              "      <td>A said that  My friend B and asked that  What...</td>\n",
              "      <td>0</td>\n",
              "    </tr>\n",
              "    <tr>\n",
              "      <th>13</th>\n",
              "      <td>0.043480</td>\n",
              "      <td>A said that  I want to be a journalist and sai...</td>\n",
              "      <td>16</td>\n",
              "    </tr>\n",
              "    <tr>\n",
              "      <th>14</th>\n",
              "      <td>0.043185</td>\n",
              "      <td>A exclaimed that  Physics and asked that  What...</td>\n",
              "      <td>8</td>\n",
              "    </tr>\n",
              "    <tr>\n",
              "      <th>15</th>\n",
              "      <td>0.043174</td>\n",
              "      <td>A said that  It’s all right .</td>\n",
              "      <td>20</td>\n",
              "    </tr>\n",
              "    <tr>\n",
              "      <th>16</th>\n",
              "      <td>0.042951</td>\n",
              "      <td>A exclaimed that  Good and asked that  Does a ...</td>\n",
              "      <td>2</td>\n",
              "    </tr>\n",
              "    <tr>\n",
              "      <th>17</th>\n",
              "      <td>0.042665</td>\n",
              "      <td>A exclaimed that  But you are so good at mathe...</td>\n",
              "      <td>6</td>\n",
              "    </tr>\n",
              "    <tr>\n",
              "      <th>18</th>\n",
              "      <td>0.042585</td>\n",
              "      <td>B exclaimed that  That’s great and said that  ...</td>\n",
              "      <td>17</td>\n",
              "    </tr>\n",
              "    <tr>\n",
              "      <th>19</th>\n",
              "      <td>0.042364</td>\n",
              "      <td>B asked that  What’s your future plan .</td>\n",
              "      <td>15</td>\n",
              "    </tr>\n",
              "    <tr>\n",
              "      <th>20</th>\n",
              "      <td>0.042180</td>\n",
              "      <td>A exclaimed that  Of course and said that  Wel...</td>\n",
              "      <td>14</td>\n",
              "    </tr>\n",
              "    <tr>\n",
              "      <th>21</th>\n",
              "      <td>0.040026</td>\n",
              "      <td>B said that  Then by for now .</td>\n",
              "      <td>21</td>\n",
              "    </tr>\n",
              "    <tr>\n",
              "      <th>22</th>\n",
              "      <td>0.037604</td>\n",
              "      <td>A said that  Bye .</td>\n",
              "      <td>22</td>\n",
              "    </tr>\n",
              "  </tbody>\n",
              "</table>\n",
              "</div>"
            ],
            "text/plain": [
              "        simi                                               text  order\n",
              "0   0.045433  A exclaimed that  Oh and said that  I see and ...     12\n",
              "1   0.045394  B said that  Well I would become a scientist a...      9\n",
              "2   0.045208  A exclaimed that  Very good and said that  I t...      4\n",
              "3   0.044975  A said that   I see the puzzle and asked that ...     10\n",
              "4   0.044962  B said that  No dear and said that  I like phy...      7\n",
              "5   0.044615                        B said that  A lot friend .      3\n",
              "6   0.044528  B said that  Nothing serious dear and said tha...      1\n",
              "7   0.044481  B said that  I will really miss you my parents...     13\n",
              "8   0.044439  B said that   I have forgotten to tell you one...     11\n",
              "9   0.044144  B exclaimed that  Excuse me friend and said th...      5\n",
              "10  0.044025             B said that  Now I have got to leave .     19\n",
              "11  0.043944  A said that  Nice to talk to you about such an...     18\n",
              "12  0.043637   A said that  My friend B and asked that  What...      0\n",
              "13  0.043480  A said that  I want to be a journalist and sai...     16\n",
              "14  0.043185  A exclaimed that  Physics and asked that  What...      8\n",
              "15  0.043174                      A said that  It’s all right .     20\n",
              "16  0.042951  A exclaimed that  Good and asked that  Does a ...      2\n",
              "17  0.042665  A exclaimed that  But you are so good at mathe...      6\n",
              "18  0.042585  B exclaimed that  That’s great and said that  ...     17\n",
              "19  0.042364            B asked that  What’s your future plan .     15\n",
              "20  0.042180  A exclaimed that  Of course and said that  Wel...     14\n",
              "21  0.040026                     B said that  Then by for now .     21\n",
              "22  0.037604                                 A said that  Bye .     22"
            ]
          },
          "metadata": {
            "tags": []
          },
          "execution_count": 94
        }
      ]
    },
    {
      "cell_type": "code",
      "metadata": {
        "colab": {
          "base_uri": "https://localhost:8080/"
        },
        "id": "kTUCNKop26gB",
        "outputId": "a07ea256-f3b6-4fe0-f460-7d5619756ed1"
      },
      "source": [
        "summary=\"\"\n",
        "Sentences=s.split('.')\n",
        "import pandas as pd\n",
        "df.columns =['sim', 'text']\n",
        "df = pd.DataFrame(ranked_sentences)\n",
        "df3 = pd.DataFrame(ranked_sentences,columns =['simi', 'text'])\n",
        "df3['order'] = ol\n",
        "df4=df3.head()\n",
        "df5=df4.sort_values(by='order')\n",
        "porder=-2\n",
        "for row in df5.itertuples():\n",
        "  if(row.order!=0 and porder!=row.order-1 and ('asked' in Sentences[row.order-1])):\n",
        "    print(Sentences[row.order-1]+'. ')\n",
        "   \n",
        "    summary=summary+Sentences[row.order-1]+'. '\n",
        "  print(row.text)\n",
        "  \n",
        "  summary=summary+row.text\n",
        "  porder=row.order"
      ],
      "execution_count": null,
      "outputs": [
        {
          "output_type": "stream",
          "text": [
            "A exclaimed that  Very good and said that  I think you would become a very good engineer then .\n",
            "B said that  No dear and said that  I like physics very much and said that  So I want to study physics and become a scientist .\n",
            " A exclaimed that  Physics and asked that  What good would you do by being a scientist . \n",
            "B said that  Well I would become a scientist and research into the mystery of the origin of the universe and said that  That would be interesting like solving the biggest puzzle and said that  Besides I also like teaching and said that  That would give me the opportunity to work with more brilliant students .\n",
            "A said that   I see the puzzle and asked that  So how would you like to proceed with your target .\n",
            "A exclaimed that  Oh and said that  I see and said that  I am really proud of you and said that  You are a genius indeed and asked that  But will you be able to stay there alone .\n"
          ],
          "name": "stdout"
        }
      ]
    },
    {
      "cell_type": "code",
      "metadata": {
        "id": "VMREi-9j26lJ"
      },
      "source": [
        ""
      ],
      "execution_count": null,
      "outputs": []
    },
    {
      "cell_type": "markdown",
      "metadata": {
        "id": "5ODrubsm39IK"
      },
      "source": [
        "**ROUGH SCORE**"
      ]
    },
    {
      "cell_type": "code",
      "metadata": {
        "colab": {
          "base_uri": "https://localhost:8080/"
        },
        "id": "XP7ehEfy3TrX",
        "outputId": "0dd9f20b-639f-4994-aa5f-611ecccb96bf"
      },
      "source": [
        "!pip install rouge-score"
      ],
      "execution_count": null,
      "outputs": [
        {
          "output_type": "stream",
          "text": [
            "Collecting rouge-score\n",
            "  Downloading https://files.pythonhosted.org/packages/1f/56/a81022436c08b9405a5247b71635394d44fe7e1dbedc4b28c740e09c2840/rouge_score-0.0.4-py2.py3-none-any.whl\n",
            "Requirement already satisfied: nltk in /usr/local/lib/python3.7/dist-packages (from rouge-score) (3.2.5)\n",
            "Requirement already satisfied: six>=1.14.0 in /usr/local/lib/python3.7/dist-packages (from rouge-score) (1.15.0)\n",
            "Requirement already satisfied: absl-py in /usr/local/lib/python3.7/dist-packages (from rouge-score) (0.12.0)\n",
            "Requirement already satisfied: numpy in /usr/local/lib/python3.7/dist-packages (from rouge-score) (1.19.5)\n",
            "Installing collected packages: rouge-score\n",
            "Successfully installed rouge-score-0.0.4\n"
          ],
          "name": "stdout"
        }
      ]
    },
    {
      "cell_type": "code",
      "metadata": {
        "colab": {
          "base_uri": "https://localhost:8080/",
          "height": 102
        },
        "id": "eoMfJDkR3TtW",
        "outputId": "924d536a-06d9-416a-f4b1-adf7b8679878"
      },
      "source": [
        "summary"
      ],
      "execution_count": null,
      "outputs": [
        {
          "output_type": "execute_result",
          "data": {
            "application/vnd.google.colaboratory.intrinsic+json": {
              "type": "string"
            },
            "text/plain": [
              "'A exclaimed that  Very good and said that  I think you would become a very good engineer then .B said that  No dear and said that  I like physics very much and said that  So I want to study physics and become a scientist . A exclaimed that  Physics and asked that  What good would you do by being a scientist . B said that  Well I would become a scientist and research into the mystery of the origin of the universe and said that  That would be interesting like solving the biggest puzzle and said that  Besides I also like teaching and said that  That would give me the opportunity to work with more brilliant students .A said that   I see the puzzle and asked that  So how would you like to proceed with your target .A exclaimed that  Oh and said that  I see and said that  I am really proud of you and said that  You are a genius indeed and asked that  But will you be able to stay there alone .'"
            ]
          },
          "metadata": {
            "tags": []
          },
          "execution_count": 40
        }
      ]
    },
    {
      "cell_type": "code",
      "metadata": {
        "colab": {
          "base_uri": "https://localhost:8080/"
        },
        "id": "DBZtzfCj6aCi",
        "outputId": "f1f49aac-dee9-4406-ce46-b0faf6a53f8f"
      },
      "source": [
        "def Convert(summary):\n",
        "    sum_list = list(summary.split(\".\"))\n",
        "    return sum_list\n",
        "  \n",
        "# Driver code    \n",
        "summary_list = Convert(summary)\n",
        "print(Convert(summary))"
      ],
      "execution_count": null,
      "outputs": [
        {
          "output_type": "stream",
          "text": [
            "['A exclaimed that  Very good and said that  I think you would become a very good engineer then ', 'B said that  No dear and said that  I like physics very much and said that  So I want to study physics and become a scientist ', ' A exclaimed that  Physics and asked that  What good would you do by being a scientist ', ' B said that  Well I would become a scientist and research into the mystery of the origin of the universe and said that  That would be interesting like solving the biggest puzzle and said that  Besides I also like teaching and said that  That would give me the opportunity to work with more brilliant students ', 'A said that   I see the puzzle and asked that  So how would you like to proceed with your target ', 'A exclaimed that  Oh and said that  I see and said that  I am really proud of you and said that  You are a genius indeed and asked that  But will you be able to stay there alone ', '']\n"
          ],
          "name": "stdout"
        }
      ]
    },
    {
      "cell_type": "code",
      "metadata": {
        "colab": {
          "base_uri": "https://localhost:8080/"
        },
        "id": "xV2EGMYH7NvW",
        "outputId": "8b7fb1ad-4aaf-48bd-e4fb-3a02e3b9a1af"
      },
      "source": [
        "summary_list"
      ],
      "execution_count": null,
      "outputs": [
        {
          "output_type": "execute_result",
          "data": {
            "text/plain": [
              "['A exclaimed that  Very good and said that  I think you would become a very good engineer then ',\n",
              " 'B said that  No dear and said that  I like physics very much and said that  So I want to study physics and become a scientist ',\n",
              " ' A exclaimed that  Physics and asked that  What good would you do by being a scientist ',\n",
              " ' B said that  Well I would become a scientist and research into the mystery of the origin of the universe and said that  That would be interesting like solving the biggest puzzle and said that  Besides I also like teaching and said that  That would give me the opportunity to work with more brilliant students ',\n",
              " 'A said that   I see the puzzle and asked that  So how would you like to proceed with your target ',\n",
              " 'A exclaimed that  Oh and said that  I see and said that  I am really proud of you and said that  You are a genius indeed and asked that  But will you be able to stay there alone ',\n",
              " '']"
            ]
          },
          "metadata": {
            "tags": []
          },
          "execution_count": 43
        }
      ]
    },
    {
      "cell_type": "code",
      "metadata": {
        "colab": {
          "base_uri": "https://localhost:8080/"
        },
        "id": "eJTt64Kk7e6r",
        "outputId": "249cc479-6117-457b-9bea-e52ea723c446"
      },
      "source": [
        "summary_list[:5]"
      ],
      "execution_count": null,
      "outputs": [
        {
          "output_type": "execute_result",
          "data": {
            "text/plain": [
              "['A exclaimed that  Very good and said that  I think you would become a very good engineer then ',\n",
              " 'B said that  No dear and said that  I like physics very much and said that  So I want to study physics and become a scientist ',\n",
              " ' A exclaimed that  Physics and asked that  What good would you do by being a scientist ',\n",
              " ' B said that  Well I would become a scientist and research into the mystery of the origin of the universe and said that  That would be interesting like solving the biggest puzzle and said that  Besides I also like teaching and said that  That would give me the opportunity to work with more brilliant students ',\n",
              " 'A said that   I see the puzzle and asked that  So how would you like to proceed with your target ']"
            ]
          },
          "metadata": {
            "tags": []
          },
          "execution_count": 44
        }
      ]
    },
    {
      "cell_type": "code",
      "metadata": {
        "colab": {
          "base_uri": "https://localhost:8080/",
          "height": 86
        },
        "id": "exs_AriJ8ETd",
        "outputId": "8206974d-55a4-44d2-875f-54b203eeead1"
      },
      "source": [
        "model_sum = '.'.join(summary_list[0:5])\n",
        "model_sum"
      ],
      "execution_count": null,
      "outputs": [
        {
          "output_type": "execute_result",
          "data": {
            "application/vnd.google.colaboratory.intrinsic+json": {
              "type": "string"
            },
            "text/plain": [
              "'A exclaimed that  Very good and said that  I think you would become a very good engineer then .B said that  No dear and said that  I like physics very much and said that  So I want to study physics and become a scientist . A exclaimed that  Physics and asked that  What good would you do by being a scientist . B said that  Well I would become a scientist and research into the mystery of the origin of the universe and said that  That would be interesting like solving the biggest puzzle and said that  Besides I also like teaching and said that  That would give me the opportunity to work with more brilliant students .A said that   I see the puzzle and asked that  So how would you like to proceed with your target '"
            ]
          },
          "metadata": {
            "tags": []
          },
          "execution_count": 45
        }
      ]
    },
    {
      "cell_type": "code",
      "metadata": {
        "colab": {
          "base_uri": "https://localhost:8080/"
        },
        "id": "TBfKvVFA3TyT",
        "outputId": "a4521ce9-ef6a-440d-e2df-919d0d6cdfe0"
      },
      "source": [
        "actual_output = ' '.join((\"B said that We must choose our career properly and asked that May I know your choice of career .\",\n",
        "                         \"A exclaimed that Good and asked that Does a puzzle interest you .\",\n",
        "                         \"B exclaimed that Excuse me friend and said that I don’t like machines .\",\n",
        "                        \"B said that No dear and said that I like physics very much and said that So I want to study physics and become a scientist .\",\n",
        "                          \"A exclaimed that Physics and asked that What good would you do by being a scientist . \",\n",
        "                          \"B said that Well I would become a scientist and research into the mystery of the origin of the universe and said that That would be interesting like solving the biggest puzzle and said that Besides I also like teaching and said that That would give me the opportunity to work with more brilliant students .\",\n",
        "                          \"A exclaimed that Of course and said that Well then go ahead to materialize your dream and exclaimed that May the Almighty fulfill your dream .\"\n",
        "                          \n",
        "                                                  \n",
        "))\n",
        "\n",
        "\n",
        "print(actual_output)"
      ],
      "execution_count": null,
      "outputs": [
        {
          "output_type": "stream",
          "text": [
            "B said that We must choose our career properly and asked that May I know your choice of career . A exclaimed that Good and asked that Does a puzzle interest you . B exclaimed that Excuse me friend and said that I don’t like machines . B said that No dear and said that I like physics very much and said that So I want to study physics and become a scientist . A exclaimed that Physics and asked that What good would you do by being a scientist .  B said that Well I would become a scientist and research into the mystery of the origin of the universe and said that That would be interesting like solving the biggest puzzle and said that Besides I also like teaching and said that That would give me the opportunity to work with more brilliant students . A exclaimed that Of course and said that Well then go ahead to materialize your dream and exclaimed that May the Almighty fulfill your dream .\n"
          ],
          "name": "stdout"
        }
      ]
    },
    {
      "cell_type": "code",
      "metadata": {
        "colab": {
          "base_uri": "https://localhost:8080/"
        },
        "id": "trGjTHmQ3T0A",
        "outputId": "2ca153b3-be60-4321-9f35-6f91d5876f40"
      },
      "source": [
        "from rouge_score import rouge_scorer\n",
        "\n",
        "scorer = rouge_scorer.RougeScorer(['rouge1', 'rougeL'], use_stemmer=True)\n",
        "scores = scorer.score(actual_output,model_sum)\n",
        "                      \n",
        "print(scores)"
      ],
      "execution_count": null,
      "outputs": [
        {
          "output_type": "stream",
          "text": [
            "{'rouge1': Score(precision=0.8888888888888888, recall=0.718562874251497, fmeasure=0.794701986754967), 'rougeL': Score(precision=0.8222222222222222, recall=0.6646706586826348, fmeasure=0.7350993377483444)}\n"
          ],
          "name": "stdout"
        }
      ]
    },
    {
      "cell_type": "code",
      "metadata": {
        "id": "UKo88CYz3T5E"
      },
      "source": [
        ""
      ],
      "execution_count": null,
      "outputs": []
    },
    {
      "cell_type": "code",
      "metadata": {
        "id": "NlquxNF9xHgF",
        "colab": {
          "base_uri": "https://localhost:8080/"
        },
        "outputId": "4fac89d5-a47c-47cd-8cff-015a28416e4f"
      },
      "source": [
        "print(\"Hello {0!r} and {0!s}\".format('foo', 'bin'))"
      ],
      "execution_count": null,
      "outputs": [
        {
          "output_type": "stream",
          "text": [
            "Hello 'foo' and foo\n"
          ],
          "name": "stdout"
        }
      ]
    },
    {
      "cell_type": "code",
      "metadata": {
        "id": "HuFQm60xxHhV"
      },
      "source": [
        ""
      ],
      "execution_count": null,
      "outputs": []
    },
    {
      "cell_type": "code",
      "metadata": {
        "id": "ObUJxEixxHlq"
      },
      "source": [
        ""
      ],
      "execution_count": null,
      "outputs": []
    }
  ]
}